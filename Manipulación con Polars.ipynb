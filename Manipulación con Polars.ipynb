{
 "cells": [
  {
   "cell_type": "markdown",
   "id": "a4f8f8db",
   "metadata": {},
   "source": [
    "# Manipulación de archivos y datos por medio de Polars"
   ]
  },
  {
   "cell_type": "markdown",
   "id": "c17ed6b9",
   "metadata": {},
   "source": [
    "La librería Polars se encarga del tratamiento de datos y conjuntos de datos, demostrando desempeños varias veces más veloz que Pandas."
   ]
  },
  {
   "cell_type": "markdown",
   "id": "81500448",
   "metadata": {},
   "source": [
    "La primera actividad a concretar es la instalación de la librería con el comando a través de pip.\n",
    "Cabe señalar que la utilización del signo de porcentaje en esta línea, es para que la librería sea instalada en el entorno del mismo Jupyter."
   ]
  },
  {
   "cell_type": "code",
   "execution_count": 73,
   "id": "81ae1e72",
   "metadata": {},
   "outputs": [
    {
     "name": "stdout",
     "output_type": "stream",
     "text": [
      "Defaulting to user installation because normal site-packages is not writeable\n",
      "Requirement already satisfied: polars in c:\\users\\aleja\\appdata\\roaming\\python\\python311\\site-packages (0.19.3)\n",
      "Note: you may need to restart the kernel to use updated packages.\n"
     ]
    }
   ],
   "source": [
    "%pip install polars"
   ]
  },
  {
   "cell_type": "markdown",
   "id": "06f513c3",
   "metadata": {},
   "source": [
    "Continuamos con la importación de la librería. Además, importaremos la librería Pandas para realizar algunas comparaciones de velocidad."
   ]
  },
  {
   "cell_type": "code",
   "execution_count": 74,
   "id": "0b87a2fc",
   "metadata": {},
   "outputs": [],
   "source": [
    "import polars as pl\n",
    "import pandas as pd"
   ]
  },
  {
   "cell_type": "markdown",
   "id": "94e66841",
   "metadata": {},
   "source": [
    "La primera revisión que haremos de esta librería, es la velocidad de lectura de un archivo CSV. Este archivo lo he utilizado en distintas ocasiones por lo que tiene un formato conocido."
   ]
  },
  {
   "cell_type": "code",
   "execution_count": 75,
   "id": "1bb5dccc",
   "metadata": {},
   "outputs": [
    {
     "name": "stdout",
     "output_type": "stream",
     "text": [
      "CPU times: total: 0 ns\n",
      "Wall time: 993 µs\n"
     ]
    }
   ],
   "source": [
    "%%time\n",
    "pl_data = pl.read_csv(\"iris.csv\")"
   ]
  },
  {
   "cell_type": "code",
   "execution_count": 76,
   "id": "8af617a5",
   "metadata": {},
   "outputs": [
    {
     "name": "stdout",
     "output_type": "stream",
     "text": [
      "CPU times: total: 0 ns\n",
      "Wall time: 3 ms\n"
     ]
    }
   ],
   "source": [
    "%%time\n",
    "pd_data = pd.read_csv(\"iris.csv\")"
   ]
  },
  {
   "cell_type": "markdown",
   "id": "01736585",
   "metadata": {},
   "source": [
    "Prácticamente la librería Polars demora menos de la mitad del tiempo que Pandas."
   ]
  },
  {
   "cell_type": "code",
   "execution_count": 77,
   "id": "5783d201",
   "metadata": {},
   "outputs": [
    {
     "data": {
      "text/html": [
       "<div><style>\n",
       ".dataframe > thead > tr > th,\n",
       ".dataframe > tbody > tr > td {\n",
       "  text-align: right;\n",
       "  white-space: pre-wrap;\n",
       "}\n",
       "</style>\n",
       "<small>shape: (5, 5)</small><table border=\"1\" class=\"dataframe\"><thead><tr><th>sepal.length</th><th>sepal.width</th><th>petal.length</th><th>petal.width</th><th>variety</th></tr><tr><td>f64</td><td>f64</td><td>f64</td><td>f64</td><td>str</td></tr></thead><tbody><tr><td>5.1</td><td>3.5</td><td>1.4</td><td>0.2</td><td>&quot;Setosa&quot;</td></tr><tr><td>4.9</td><td>3.0</td><td>1.4</td><td>0.2</td><td>&quot;Setosa&quot;</td></tr><tr><td>4.7</td><td>3.2</td><td>1.3</td><td>0.2</td><td>&quot;Setosa&quot;</td></tr><tr><td>4.6</td><td>3.1</td><td>1.5</td><td>0.2</td><td>&quot;Setosa&quot;</td></tr><tr><td>5.0</td><td>3.6</td><td>1.4</td><td>0.2</td><td>&quot;Setosa&quot;</td></tr></tbody></table></div>"
      ],
      "text/plain": [
       "shape: (5, 5)\n",
       "┌──────────────┬─────────────┬──────────────┬─────────────┬─────────┐\n",
       "│ sepal.length ┆ sepal.width ┆ petal.length ┆ petal.width ┆ variety │\n",
       "│ ---          ┆ ---         ┆ ---          ┆ ---         ┆ ---     │\n",
       "│ f64          ┆ f64         ┆ f64          ┆ f64         ┆ str     │\n",
       "╞══════════════╪═════════════╪══════════════╪═════════════╪═════════╡\n",
       "│ 5.1          ┆ 3.5         ┆ 1.4          ┆ 0.2         ┆ Setosa  │\n",
       "│ 4.9          ┆ 3.0         ┆ 1.4          ┆ 0.2         ┆ Setosa  │\n",
       "│ 4.7          ┆ 3.2         ┆ 1.3          ┆ 0.2         ┆ Setosa  │\n",
       "│ 4.6          ┆ 3.1         ┆ 1.5          ┆ 0.2         ┆ Setosa  │\n",
       "│ 5.0          ┆ 3.6         ┆ 1.4          ┆ 0.2         ┆ Setosa  │\n",
       "└──────────────┴─────────────┴──────────────┴─────────────┴─────────┘"
      ]
     },
     "execution_count": 77,
     "metadata": {},
     "output_type": "execute_result"
    }
   ],
   "source": [
    "pl_data.head()"
   ]
  },
  {
   "cell_type": "code",
   "execution_count": 78,
   "id": "26896e9e",
   "metadata": {},
   "outputs": [
    {
     "data": {
      "text/html": [
       "<div>\n",
       "<style scoped>\n",
       "    .dataframe tbody tr th:only-of-type {\n",
       "        vertical-align: middle;\n",
       "    }\n",
       "\n",
       "    .dataframe tbody tr th {\n",
       "        vertical-align: top;\n",
       "    }\n",
       "\n",
       "    .dataframe thead th {\n",
       "        text-align: right;\n",
       "    }\n",
       "</style>\n",
       "<table border=\"1\" class=\"dataframe\">\n",
       "  <thead>\n",
       "    <tr style=\"text-align: right;\">\n",
       "      <th></th>\n",
       "      <th>sepal.length</th>\n",
       "      <th>sepal.width</th>\n",
       "      <th>petal.length</th>\n",
       "      <th>petal.width</th>\n",
       "      <th>variety</th>\n",
       "    </tr>\n",
       "  </thead>\n",
       "  <tbody>\n",
       "    <tr>\n",
       "      <th>0</th>\n",
       "      <td>5.1</td>\n",
       "      <td>3.5</td>\n",
       "      <td>1.4</td>\n",
       "      <td>0.2</td>\n",
       "      <td>Setosa</td>\n",
       "    </tr>\n",
       "    <tr>\n",
       "      <th>1</th>\n",
       "      <td>4.9</td>\n",
       "      <td>3.0</td>\n",
       "      <td>1.4</td>\n",
       "      <td>0.2</td>\n",
       "      <td>Setosa</td>\n",
       "    </tr>\n",
       "    <tr>\n",
       "      <th>2</th>\n",
       "      <td>4.7</td>\n",
       "      <td>3.2</td>\n",
       "      <td>1.3</td>\n",
       "      <td>0.2</td>\n",
       "      <td>Setosa</td>\n",
       "    </tr>\n",
       "    <tr>\n",
       "      <th>3</th>\n",
       "      <td>4.6</td>\n",
       "      <td>3.1</td>\n",
       "      <td>1.5</td>\n",
       "      <td>0.2</td>\n",
       "      <td>Setosa</td>\n",
       "    </tr>\n",
       "    <tr>\n",
       "      <th>4</th>\n",
       "      <td>5.0</td>\n",
       "      <td>3.6</td>\n",
       "      <td>1.4</td>\n",
       "      <td>0.2</td>\n",
       "      <td>Setosa</td>\n",
       "    </tr>\n",
       "  </tbody>\n",
       "</table>\n",
       "</div>"
      ],
      "text/plain": [
       "   sepal.length  sepal.width  petal.length  petal.width variety\n",
       "0           5.1          3.5           1.4          0.2  Setosa\n",
       "1           4.9          3.0           1.4          0.2  Setosa\n",
       "2           4.7          3.2           1.3          0.2  Setosa\n",
       "3           4.6          3.1           1.5          0.2  Setosa\n",
       "4           5.0          3.6           1.4          0.2  Setosa"
      ]
     },
     "execution_count": 78,
     "metadata": {},
     "output_type": "execute_result"
    }
   ],
   "source": [
    "pd_data.head()"
   ]
  },
  {
   "cell_type": "markdown",
   "id": "151c866c",
   "metadata": {},
   "source": [
    "Además, al revisar el Head de ambos dataframes generados en la lectura, podemos apreciar que internamente Polars ya ha identificado los tipos de datos que hay en cada columna."
   ]
  },
  {
   "cell_type": "code",
   "execution_count": 79,
   "id": "cc46134e",
   "metadata": {},
   "outputs": [
    {
     "data": {
      "text/html": [
       "<div><style>\n",
       ".dataframe > thead > tr > th,\n",
       ".dataframe > tbody > tr > td {\n",
       "  text-align: right;\n",
       "  white-space: pre-wrap;\n",
       "}\n",
       "</style>\n",
       "<small>shape: (9, 6)</small><table border=\"1\" class=\"dataframe\"><thead><tr><th>describe</th><th>sepal.length</th><th>sepal.width</th><th>petal.length</th><th>petal.width</th><th>variety</th></tr><tr><td>str</td><td>f64</td><td>f64</td><td>f64</td><td>f64</td><td>str</td></tr></thead><tbody><tr><td>&quot;count&quot;</td><td>150.0</td><td>150.0</td><td>150.0</td><td>150.0</td><td>&quot;150&quot;</td></tr><tr><td>&quot;null_count&quot;</td><td>0.0</td><td>0.0</td><td>0.0</td><td>0.0</td><td>&quot;0&quot;</td></tr><tr><td>&quot;mean&quot;</td><td>5.843333</td><td>3.057333</td><td>3.758</td><td>1.199333</td><td>null</td></tr><tr><td>&quot;std&quot;</td><td>0.828066</td><td>0.435866</td><td>1.765298</td><td>0.762238</td><td>null</td></tr><tr><td>&quot;min&quot;</td><td>4.3</td><td>2.0</td><td>1.0</td><td>0.1</td><td>&quot;Setosa&quot;</td></tr><tr><td>&quot;25%&quot;</td><td>5.1</td><td>2.8</td><td>1.6</td><td>0.3</td><td>null</td></tr><tr><td>&quot;50%&quot;</td><td>5.8</td><td>3.0</td><td>4.4</td><td>1.3</td><td>null</td></tr><tr><td>&quot;75%&quot;</td><td>6.4</td><td>3.3</td><td>5.1</td><td>1.8</td><td>null</td></tr><tr><td>&quot;max&quot;</td><td>7.9</td><td>4.4</td><td>6.9</td><td>2.5</td><td>&quot;Virginica&quot;</td></tr></tbody></table></div>"
      ],
      "text/plain": [
       "shape: (9, 6)\n",
       "┌────────────┬──────────────┬─────────────┬──────────────┬─────────────┬───────────┐\n",
       "│ describe   ┆ sepal.length ┆ sepal.width ┆ petal.length ┆ petal.width ┆ variety   │\n",
       "│ ---        ┆ ---          ┆ ---         ┆ ---          ┆ ---         ┆ ---       │\n",
       "│ str        ┆ f64          ┆ f64         ┆ f64          ┆ f64         ┆ str       │\n",
       "╞════════════╪══════════════╪═════════════╪══════════════╪═════════════╪═══════════╡\n",
       "│ count      ┆ 150.0        ┆ 150.0       ┆ 150.0        ┆ 150.0       ┆ 150       │\n",
       "│ null_count ┆ 0.0          ┆ 0.0         ┆ 0.0          ┆ 0.0         ┆ 0         │\n",
       "│ mean       ┆ 5.843333     ┆ 3.057333    ┆ 3.758        ┆ 1.199333    ┆ null      │\n",
       "│ std        ┆ 0.828066     ┆ 0.435866    ┆ 1.765298     ┆ 0.762238    ┆ null      │\n",
       "│ min        ┆ 4.3          ┆ 2.0         ┆ 1.0          ┆ 0.1         ┆ Setosa    │\n",
       "│ 25%        ┆ 5.1          ┆ 2.8         ┆ 1.6          ┆ 0.3         ┆ null      │\n",
       "│ 50%        ┆ 5.8          ┆ 3.0         ┆ 4.4          ┆ 1.3         ┆ null      │\n",
       "│ 75%        ┆ 6.4          ┆ 3.3         ┆ 5.1          ┆ 1.8         ┆ null      │\n",
       "│ max        ┆ 7.9          ┆ 4.4         ┆ 6.9          ┆ 2.5         ┆ Virginica │\n",
       "└────────────┴──────────────┴─────────────┴──────────────┴─────────────┴───────────┘"
      ]
     },
     "execution_count": 79,
     "metadata": {},
     "output_type": "execute_result"
    }
   ],
   "source": [
    "pl_data.describe()"
   ]
  },
  {
   "cell_type": "code",
   "execution_count": 80,
   "id": "7a9f25ec",
   "metadata": {},
   "outputs": [
    {
     "data": {
      "text/html": [
       "<div>\n",
       "<style scoped>\n",
       "    .dataframe tbody tr th:only-of-type {\n",
       "        vertical-align: middle;\n",
       "    }\n",
       "\n",
       "    .dataframe tbody tr th {\n",
       "        vertical-align: top;\n",
       "    }\n",
       "\n",
       "    .dataframe thead th {\n",
       "        text-align: right;\n",
       "    }\n",
       "</style>\n",
       "<table border=\"1\" class=\"dataframe\">\n",
       "  <thead>\n",
       "    <tr style=\"text-align: right;\">\n",
       "      <th></th>\n",
       "      <th>sepal.length</th>\n",
       "      <th>sepal.width</th>\n",
       "      <th>petal.length</th>\n",
       "      <th>petal.width</th>\n",
       "    </tr>\n",
       "  </thead>\n",
       "  <tbody>\n",
       "    <tr>\n",
       "      <th>count</th>\n",
       "      <td>150.000000</td>\n",
       "      <td>150.000000</td>\n",
       "      <td>150.000000</td>\n",
       "      <td>150.000000</td>\n",
       "    </tr>\n",
       "    <tr>\n",
       "      <th>mean</th>\n",
       "      <td>5.843333</td>\n",
       "      <td>3.057333</td>\n",
       "      <td>3.758000</td>\n",
       "      <td>1.199333</td>\n",
       "    </tr>\n",
       "    <tr>\n",
       "      <th>std</th>\n",
       "      <td>0.828066</td>\n",
       "      <td>0.435866</td>\n",
       "      <td>1.765298</td>\n",
       "      <td>0.762238</td>\n",
       "    </tr>\n",
       "    <tr>\n",
       "      <th>min</th>\n",
       "      <td>4.300000</td>\n",
       "      <td>2.000000</td>\n",
       "      <td>1.000000</td>\n",
       "      <td>0.100000</td>\n",
       "    </tr>\n",
       "    <tr>\n",
       "      <th>25%</th>\n",
       "      <td>5.100000</td>\n",
       "      <td>2.800000</td>\n",
       "      <td>1.600000</td>\n",
       "      <td>0.300000</td>\n",
       "    </tr>\n",
       "    <tr>\n",
       "      <th>50%</th>\n",
       "      <td>5.800000</td>\n",
       "      <td>3.000000</td>\n",
       "      <td>4.350000</td>\n",
       "      <td>1.300000</td>\n",
       "    </tr>\n",
       "    <tr>\n",
       "      <th>75%</th>\n",
       "      <td>6.400000</td>\n",
       "      <td>3.300000</td>\n",
       "      <td>5.100000</td>\n",
       "      <td>1.800000</td>\n",
       "    </tr>\n",
       "    <tr>\n",
       "      <th>max</th>\n",
       "      <td>7.900000</td>\n",
       "      <td>4.400000</td>\n",
       "      <td>6.900000</td>\n",
       "      <td>2.500000</td>\n",
       "    </tr>\n",
       "  </tbody>\n",
       "</table>\n",
       "</div>"
      ],
      "text/plain": [
       "       sepal.length  sepal.width  petal.length  petal.width\n",
       "count    150.000000   150.000000    150.000000   150.000000\n",
       "mean       5.843333     3.057333      3.758000     1.199333\n",
       "std        0.828066     0.435866      1.765298     0.762238\n",
       "min        4.300000     2.000000      1.000000     0.100000\n",
       "25%        5.100000     2.800000      1.600000     0.300000\n",
       "50%        5.800000     3.000000      4.350000     1.300000\n",
       "75%        6.400000     3.300000      5.100000     1.800000\n",
       "max        7.900000     4.400000      6.900000     2.500000"
      ]
     },
     "execution_count": 80,
     "metadata": {},
     "output_type": "execute_result"
    }
   ],
   "source": [
    "pd_data.describe()"
   ]
  },
  {
   "cell_type": "markdown",
   "id": "880d0da6",
   "metadata": {},
   "source": [
    "En el método describe, también podemos apreciar que no deja fuera los valores no numéricos, ofreciendo un análisis más simple o en otro caso, un paso menos."
   ]
  },
  {
   "cell_type": "markdown",
   "id": "98bbaab2",
   "metadata": {},
   "source": []
  },
  {
   "cell_type": "markdown",
   "id": "c68840e9",
   "metadata": {},
   "source": [
    "A continuación, revisaremos algunas de las opciones más comunes utilizadas en el trabajo con datos. Por ejemplo, la selección de subconjuntos de un DataFrame."
   ]
  },
  {
   "cell_type": "markdown",
   "id": "fd705d6d",
   "metadata": {},
   "source": [
    "En el siguiente apartado mostramos cómo se pueden filtrar las columnas según nombre."
   ]
  },
  {
   "cell_type": "code",
   "execution_count": 81,
   "id": "a5ef6bed",
   "metadata": {},
   "outputs": [
    {
     "data": {
      "text/html": [
       "<div><style>\n",
       ".dataframe > thead > tr > th,\n",
       ".dataframe > tbody > tr > td {\n",
       "  text-align: right;\n",
       "  white-space: pre-wrap;\n",
       "}\n",
       "</style>\n",
       "<small>shape: (5, 2)</small><table border=\"1\" class=\"dataframe\"><thead><tr><th>sepal.length</th><th>sepal.width</th></tr><tr><td>f64</td><td>f64</td></tr></thead><tbody><tr><td>5.1</td><td>3.5</td></tr><tr><td>4.9</td><td>3.0</td></tr><tr><td>4.7</td><td>3.2</td></tr><tr><td>4.6</td><td>3.1</td></tr><tr><td>5.0</td><td>3.6</td></tr></tbody></table></div>"
      ],
      "text/plain": [
       "shape: (5, 2)\n",
       "┌──────────────┬─────────────┐\n",
       "│ sepal.length ┆ sepal.width │\n",
       "│ ---          ┆ ---         │\n",
       "│ f64          ┆ f64         │\n",
       "╞══════════════╪═════════════╡\n",
       "│ 5.1          ┆ 3.5         │\n",
       "│ 4.9          ┆ 3.0         │\n",
       "│ 4.7          ┆ 3.2         │\n",
       "│ 4.6          ┆ 3.1         │\n",
       "│ 5.0          ┆ 3.6         │\n",
       "└──────────────┴─────────────┘"
      ]
     },
     "execution_count": 81,
     "metadata": {},
     "output_type": "execute_result"
    }
   ],
   "source": [
    "pl_data.select([pl.col([\"sepal.length\", \"sepal.width\"])]).head()"
   ]
  },
  {
   "cell_type": "markdown",
   "id": "90b6c895",
   "metadata": {},
   "source": [
    "También podemos implementar funciones sobre las mismas selecciones. En este caso, implementaremos la función SUM."
   ]
  },
  {
   "cell_type": "code",
   "execution_count": 82,
   "id": "a28bdaa6",
   "metadata": {},
   "outputs": [
    {
     "data": {
      "text/html": [
       "<div><style>\n",
       ".dataframe > thead > tr > th,\n",
       ".dataframe > tbody > tr > td {\n",
       "  text-align: right;\n",
       "  white-space: pre-wrap;\n",
       "}\n",
       "</style>\n",
       "<small>shape: (1, 2)</small><table border=\"1\" class=\"dataframe\"><thead><tr><th>sepal.length</th><th>sepal.width</th></tr><tr><td>f64</td><td>f64</td></tr></thead><tbody><tr><td>876.5</td><td>458.6</td></tr></tbody></table></div>"
      ],
      "text/plain": [
       "shape: (1, 2)\n",
       "┌──────────────┬─────────────┐\n",
       "│ sepal.length ┆ sepal.width │\n",
       "│ ---          ┆ ---         │\n",
       "│ f64          ┆ f64         │\n",
       "╞══════════════╪═════════════╡\n",
       "│ 876.5        ┆ 458.6       │\n",
       "└──────────────┴─────────────┘"
      ]
     },
     "execution_count": 82,
     "metadata": {},
     "output_type": "execute_result"
    }
   ],
   "source": [
    "pl_data.select([pl.col([\"sepal.length\", \"sepal.width\"])]).sum()"
   ]
  },
  {
   "cell_type": "code",
   "execution_count": 83,
   "id": "fd1c75f7",
   "metadata": {},
   "outputs": [
    {
     "name": "stderr",
     "output_type": "stream",
     "text": [
      "C:\\Users\\aleja\\AppData\\Local\\Temp\\ipykernel_13936\\465787361.py:1: DeprecationWarning: `groupby` is deprecated. It has been renamed to `group_by`.\n",
      "  pl_data.groupby(\n"
     ]
    },
    {
     "data": {
      "text/html": [
       "<div><style>\n",
       ".dataframe > thead > tr > th,\n",
       ".dataframe > tbody > tr > td {\n",
       "  text-align: right;\n",
       "  white-space: pre-wrap;\n",
       "}\n",
       "</style>\n",
       "<small>shape: (3, 6)</small><table border=\"1\" class=\"dataframe\"><thead><tr><th>variety</th><th>Cantidad</th><th>Promedio</th><th>Mínimo</th><th>Standar</th><th>Máximo</th></tr><tr><td>str</td><td>u32</td><td>f64</td><td>f64</td><td>f64</td><td>f64</td></tr></thead><tbody><tr><td>&quot;Virginica&quot;</td><td>50</td><td>6.588</td><td>4.9</td><td>0.63588</td><td>7.9</td></tr><tr><td>&quot;Setosa&quot;</td><td>50</td><td>5.006</td><td>4.3</td><td>0.35249</td><td>5.8</td></tr><tr><td>&quot;Versicolor&quot;</td><td>50</td><td>5.936</td><td>4.9</td><td>0.516171</td><td>7.0</td></tr></tbody></table></div>"
      ],
      "text/plain": [
       "shape: (3, 6)\n",
       "┌────────────┬──────────┬──────────┬────────┬──────────┬────────┐\n",
       "│ variety    ┆ Cantidad ┆ Promedio ┆ Mínimo ┆ Standar  ┆ Máximo │\n",
       "│ ---        ┆ ---      ┆ ---      ┆ ---    ┆ ---      ┆ ---    │\n",
       "│ str        ┆ u32      ┆ f64      ┆ f64    ┆ f64      ┆ f64    │\n",
       "╞════════════╪══════════╪══════════╪════════╪══════════╪════════╡\n",
       "│ Virginica  ┆ 50       ┆ 6.588    ┆ 4.9    ┆ 0.63588  ┆ 7.9    │\n",
       "│ Setosa     ┆ 50       ┆ 5.006    ┆ 4.3    ┆ 0.35249  ┆ 5.8    │\n",
       "│ Versicolor ┆ 50       ┆ 5.936    ┆ 4.9    ┆ 0.516171 ┆ 7.0    │\n",
       "└────────────┴──────────┴──────────┴────────┴──────────┴────────┘"
      ]
     },
     "execution_count": 83,
     "metadata": {},
     "output_type": "execute_result"
    }
   ],
   "source": [
    "pl_data.groupby(\n",
    "    [\"variety\"]\n",
    ").agg([\n",
    "    pl.count().alias(\"Cantidad\"),\n",
    "    pl.col(\"sepal.length\").mean().alias(\"Promedio\"),\n",
    "    pl.col(\"sepal.length\").min().alias(\"Mínimo\"),\n",
    "    pl.col(\"sepal.length\").std().alias(\"Standar\"),\n",
    "    pl.col(\"sepal.length\").max().alias(\"Máximo\")\n",
    "])"
   ]
  },
  {
   "cell_type": "markdown",
   "id": "ad45e079",
   "metadata": {},
   "source": [
    "La velocidad y las opciones de entrega de datos que ofrece Polars son muy buenas y simples de realizar."
   ]
  },
  {
   "cell_type": "markdown",
   "id": "96201c35",
   "metadata": {},
   "source": [
    "En algunas ocasiones, al utilizar Pandas, uno de los puntos más complicados de diferenciar eran iloc y loc. En el caso de Polars, no están disponibles estas funciones, pero por el contrario, posee opciones más sencillas para seleccionar filas y columnas en específico. Siempre entregando el formato DataFrame en sus salidas."
   ]
  },
  {
   "cell_type": "code",
   "execution_count": 84,
   "id": "2123361e",
   "metadata": {},
   "outputs": [
    {
     "data": {
      "text/html": [
       "<div><style>\n",
       ".dataframe > thead > tr > th,\n",
       ".dataframe > tbody > tr > td {\n",
       "  text-align: right;\n",
       "  white-space: pre-wrap;\n",
       "}\n",
       "</style>\n",
       "<small>shape: (1, 5)</small><table border=\"1\" class=\"dataframe\"><thead><tr><th>sepal.length</th><th>sepal.width</th><th>petal.length</th><th>petal.width</th><th>variety</th></tr><tr><td>f64</td><td>f64</td><td>f64</td><td>f64</td><td>str</td></tr></thead><tbody><tr><td>5.4</td><td>3.9</td><td>1.7</td><td>0.4</td><td>&quot;Setosa&quot;</td></tr></tbody></table></div>"
      ],
      "text/plain": [
       "shape: (1, 5)\n",
       "┌──────────────┬─────────────┬──────────────┬─────────────┬─────────┐\n",
       "│ sepal.length ┆ sepal.width ┆ petal.length ┆ petal.width ┆ variety │\n",
       "│ ---          ┆ ---         ┆ ---          ┆ ---         ┆ ---     │\n",
       "│ f64          ┆ f64         ┆ f64          ┆ f64         ┆ str     │\n",
       "╞══════════════╪═════════════╪══════════════╪═════════════╪═════════╡\n",
       "│ 5.4          ┆ 3.9         ┆ 1.7          ┆ 0.4         ┆ Setosa  │\n",
       "└──────────────┴─────────────┴──────────────┴─────────────┴─────────┘"
      ]
     },
     "execution_count": 84,
     "metadata": {},
     "output_type": "execute_result"
    }
   ],
   "source": [
    "# Aquí se puede apreciar el cómo se obtiene una fila (sexta) sin mayor problema\n",
    "pl_data[5,:]"
   ]
  },
  {
   "cell_type": "code",
   "execution_count": 85,
   "id": "0578ea0f",
   "metadata": {},
   "outputs": [
    {
     "data": {
      "text/html": [
       "<div><style>\n",
       ".dataframe > thead > tr > th,\n",
       ".dataframe > tbody > tr > td {\n",
       "  text-align: right;\n",
       "  white-space: pre-wrap;\n",
       "}\n",
       "</style>\n",
       "<small>shape: (3, 5)</small><table border=\"1\" class=\"dataframe\"><thead><tr><th>sepal.length</th><th>sepal.width</th><th>petal.length</th><th>petal.width</th><th>variety</th></tr><tr><td>f64</td><td>f64</td><td>f64</td><td>f64</td><td>str</td></tr></thead><tbody><tr><td>5.1</td><td>3.5</td><td>1.4</td><td>0.2</td><td>&quot;Setosa&quot;</td></tr><tr><td>5.7</td><td>4.4</td><td>1.5</td><td>0.4</td><td>&quot;Setosa&quot;</td></tr><tr><td>6.3</td><td>3.3</td><td>6.0</td><td>2.5</td><td>&quot;Virginica&quot;</td></tr></tbody></table></div>"
      ],
      "text/plain": [
       "shape: (3, 5)\n",
       "┌──────────────┬─────────────┬──────────────┬─────────────┬───────────┐\n",
       "│ sepal.length ┆ sepal.width ┆ petal.length ┆ petal.width ┆ variety   │\n",
       "│ ---          ┆ ---         ┆ ---          ┆ ---         ┆ ---       │\n",
       "│ f64          ┆ f64         ┆ f64          ┆ f64         ┆ str       │\n",
       "╞══════════════╪═════════════╪══════════════╪═════════════╪═══════════╡\n",
       "│ 5.1          ┆ 3.5         ┆ 1.4          ┆ 0.2         ┆ Setosa    │\n",
       "│ 5.7          ┆ 4.4         ┆ 1.5          ┆ 0.4         ┆ Setosa    │\n",
       "│ 6.3          ┆ 3.3         ┆ 6.0          ┆ 2.5         ┆ Virginica │\n",
       "└──────────────┴─────────────┴──────────────┴─────────────┴───────────┘"
      ]
     },
     "execution_count": 85,
     "metadata": {},
     "output_type": "execute_result"
    }
   ],
   "source": [
    "# También podemos obtener varias filas según sus índices. Para ello indicaremos los índices entre corchetes.\n",
    "pl_data[[0,15,100], :]"
   ]
  },
  {
   "cell_type": "code",
   "execution_count": 86,
   "id": "545dd11b",
   "metadata": {},
   "outputs": [
    {
     "data": {
      "text/html": [
       "<div><style>\n",
       ".dataframe > thead > tr > th,\n",
       ".dataframe > tbody > tr > td {\n",
       "  text-align: right;\n",
       "  white-space: pre-wrap;\n",
       "}\n",
       "</style>\n",
       "<small>shape: (4, 5)</small><table border=\"1\" class=\"dataframe\"><thead><tr><th>sepal.length</th><th>sepal.width</th><th>petal.length</th><th>petal.width</th><th>variety</th></tr><tr><td>f64</td><td>f64</td><td>f64</td><td>f64</td><td>str</td></tr></thead><tbody><tr><td>7.7</td><td>3.0</td><td>6.1</td><td>2.3</td><td>&quot;Virginica&quot;</td></tr><tr><td>6.3</td><td>3.4</td><td>5.6</td><td>2.4</td><td>&quot;Virginica&quot;</td></tr><tr><td>6.4</td><td>3.1</td><td>5.5</td><td>1.8</td><td>&quot;Virginica&quot;</td></tr><tr><td>6.0</td><td>3.0</td><td>4.8</td><td>1.8</td><td>&quot;Virginica&quot;</td></tr></tbody></table></div>"
      ],
      "text/plain": [
       "shape: (4, 5)\n",
       "┌──────────────┬─────────────┬──────────────┬─────────────┬───────────┐\n",
       "│ sepal.length ┆ sepal.width ┆ petal.length ┆ petal.width ┆ variety   │\n",
       "│ ---          ┆ ---         ┆ ---          ┆ ---         ┆ ---       │\n",
       "│ f64          ┆ f64         ┆ f64          ┆ f64         ┆ str       │\n",
       "╞══════════════╪═════════════╪══════════════╪═════════════╪═══════════╡\n",
       "│ 7.7          ┆ 3.0         ┆ 6.1          ┆ 2.3         ┆ Virginica │\n",
       "│ 6.3          ┆ 3.4         ┆ 5.6          ┆ 2.4         ┆ Virginica │\n",
       "│ 6.4          ┆ 3.1         ┆ 5.5          ┆ 1.8         ┆ Virginica │\n",
       "│ 6.0          ┆ 3.0         ┆ 4.8          ┆ 1.8         ┆ Virginica │\n",
       "└──────────────┴─────────────┴──────────────┴─────────────┴───────────┘"
      ]
     },
     "execution_count": 86,
     "metadata": {},
     "output_type": "execute_result"
    }
   ],
   "source": [
    "# Para seleccionar una sección del DataFrame, [desde, hasta]\n",
    "pl_data[135:139, :]"
   ]
  },
  {
   "cell_type": "markdown",
   "id": "4cc54c77",
   "metadata": {},
   "source": [
    "Como se espera, también se pueden obtener porciones de columnas como se muestra a continuación."
   ]
  },
  {
   "cell_type": "code",
   "execution_count": 87,
   "id": "29efc5fb",
   "metadata": {},
   "outputs": [
    {
     "data": {
      "text/html": [
       "<div><style>\n",
       ".dataframe > thead > tr > th,\n",
       ".dataframe > tbody > tr > td {\n",
       "  text-align: right;\n",
       "  white-space: pre-wrap;\n",
       "}\n",
       "</style>\n",
       "<small>shape: (10, 3)</small><table border=\"1\" class=\"dataframe\"><thead><tr><th>petal.length</th><th>petal.width</th><th>variety</th></tr><tr><td>f64</td><td>f64</td><td>str</td></tr></thead><tbody><tr><td>1.4</td><td>0.2</td><td>&quot;Setosa&quot;</td></tr><tr><td>1.4</td><td>0.2</td><td>&quot;Setosa&quot;</td></tr><tr><td>1.3</td><td>0.2</td><td>&quot;Setosa&quot;</td></tr><tr><td>1.5</td><td>0.2</td><td>&quot;Setosa&quot;</td></tr><tr><td>1.4</td><td>0.2</td><td>&quot;Setosa&quot;</td></tr><tr><td>1.7</td><td>0.4</td><td>&quot;Setosa&quot;</td></tr><tr><td>1.4</td><td>0.3</td><td>&quot;Setosa&quot;</td></tr><tr><td>1.5</td><td>0.2</td><td>&quot;Setosa&quot;</td></tr><tr><td>1.4</td><td>0.2</td><td>&quot;Setosa&quot;</td></tr><tr><td>1.5</td><td>0.1</td><td>&quot;Setosa&quot;</td></tr></tbody></table></div>"
      ],
      "text/plain": [
       "shape: (10, 3)\n",
       "┌──────────────┬─────────────┬─────────┐\n",
       "│ petal.length ┆ petal.width ┆ variety │\n",
       "│ ---          ┆ ---         ┆ ---     │\n",
       "│ f64          ┆ f64         ┆ str     │\n",
       "╞══════════════╪═════════════╪═════════╡\n",
       "│ 1.4          ┆ 0.2         ┆ Setosa  │\n",
       "│ 1.4          ┆ 0.2         ┆ Setosa  │\n",
       "│ 1.3          ┆ 0.2         ┆ Setosa  │\n",
       "│ 1.5          ┆ 0.2         ┆ Setosa  │\n",
       "│ …            ┆ …           ┆ …       │\n",
       "│ 1.4          ┆ 0.3         ┆ Setosa  │\n",
       "│ 1.5          ┆ 0.2         ┆ Setosa  │\n",
       "│ 1.4          ┆ 0.2         ┆ Setosa  │\n",
       "│ 1.5          ┆ 0.1         ┆ Setosa  │\n",
       "└──────────────┴─────────────┴─────────┘"
      ]
     },
     "execution_count": 87,
     "metadata": {},
     "output_type": "execute_result"
    }
   ],
   "source": [
    "# Le añadiré head(10) para limitar la cantidad de registros.\n",
    "pl_data[:,2:5].head(10)"
   ]
  },
  {
   "cell_type": "code",
   "execution_count": 88,
   "id": "fe40f2e4",
   "metadata": {},
   "outputs": [
    {
     "data": {
      "text/plain": [
       "'Setosa'"
      ]
     },
     "execution_count": 88,
     "metadata": {},
     "output_type": "execute_result"
    }
   ],
   "source": [
    "# Obviamente se puede llevar al extremo de extraer un sólo valor.\n",
    "pl_data[3,4]"
   ]
  },
  {
   "cell_type": "code",
   "execution_count": 89,
   "id": "54d07704",
   "metadata": {},
   "outputs": [
    {
     "data": {
      "text/html": [
       "<div><style>\n",
       ".dataframe > thead > tr > th,\n",
       ".dataframe > tbody > tr > td {\n",
       "  text-align: right;\n",
       "  white-space: pre-wrap;\n",
       "}\n",
       "</style>\n",
       "<small>shape: (1, 1)</small><table border=\"1\" class=\"dataframe\"><thead><tr><th>variety</th></tr><tr><td>str</td></tr></thead><tbody><tr><td>&quot;Setosa&quot;</td></tr></tbody></table></div>"
      ],
      "text/plain": [
       "shape: (1, 1)\n",
       "┌─────────┐\n",
       "│ variety │\n",
       "│ ---     │\n",
       "│ str     │\n",
       "╞═════════╡\n",
       "│ Setosa  │\n",
       "└─────────┘"
      ]
     },
     "execution_count": 89,
     "metadata": {},
     "output_type": "execute_result"
    }
   ],
   "source": [
    "#También podemos traerla con formato de DF\n",
    "pl_data[3,[4]]"
   ]
  },
  {
   "cell_type": "markdown",
   "id": "2309d859",
   "metadata": {},
   "source": [
    "En cuanto a presentación de datos hemos usado también una función muy útil: alias(). Esta función permite crear nuevas columnas en un DataFrame existente a partir de otros valores o al momento de presentar valores, usar la función para cambiar las cabeceras. Esto último es bastante útil para presentar resultados en informes."
   ]
  },
  {
   "cell_type": "code",
   "execution_count": 90,
   "id": "05c7c843",
   "metadata": {},
   "outputs": [
    {
     "data": {
      "text/html": [
       "<div><style>\n",
       ".dataframe > thead > tr > th,\n",
       ".dataframe > tbody > tr > td {\n",
       "  text-align: right;\n",
       "  white-space: pre-wrap;\n",
       "}\n",
       "</style>\n",
       "<small>shape: (5, 6)</small><table border=\"1\" class=\"dataframe\"><thead><tr><th>sepal.length</th><th>sepal.width</th><th>petal.length</th><th>petal.width</th><th>variety</th><th>Ancho pétalo</th></tr><tr><td>f64</td><td>f64</td><td>f64</td><td>f64</td><td>str</td><td>f64</td></tr></thead><tbody><tr><td>5.1</td><td>3.5</td><td>1.4</td><td>0.2</td><td>&quot;Setosa&quot;</td><td>1.199333</td></tr><tr><td>4.9</td><td>3.0</td><td>1.4</td><td>0.2</td><td>&quot;Setosa&quot;</td><td>1.199333</td></tr><tr><td>4.7</td><td>3.2</td><td>1.3</td><td>0.2</td><td>&quot;Setosa&quot;</td><td>1.199333</td></tr><tr><td>4.6</td><td>3.1</td><td>1.5</td><td>0.2</td><td>&quot;Setosa&quot;</td><td>1.199333</td></tr><tr><td>5.0</td><td>3.6</td><td>1.4</td><td>0.2</td><td>&quot;Setosa&quot;</td><td>1.199333</td></tr></tbody></table></div>"
      ],
      "text/plain": [
       "shape: (5, 6)\n",
       "┌──────────────┬─────────────┬──────────────┬─────────────┬─────────┬──────────────┐\n",
       "│ sepal.length ┆ sepal.width ┆ petal.length ┆ petal.width ┆ variety ┆ Ancho pétalo │\n",
       "│ ---          ┆ ---         ┆ ---          ┆ ---         ┆ ---     ┆ ---          │\n",
       "│ f64          ┆ f64         ┆ f64          ┆ f64         ┆ str     ┆ f64          │\n",
       "╞══════════════╪═════════════╪══════════════╪═════════════╪═════════╪══════════════╡\n",
       "│ 5.1          ┆ 3.5         ┆ 1.4          ┆ 0.2         ┆ Setosa  ┆ 1.199333     │\n",
       "│ 4.9          ┆ 3.0         ┆ 1.4          ┆ 0.2         ┆ Setosa  ┆ 1.199333     │\n",
       "│ 4.7          ┆ 3.2         ┆ 1.3          ┆ 0.2         ┆ Setosa  ┆ 1.199333     │\n",
       "│ 4.6          ┆ 3.1         ┆ 1.5          ┆ 0.2         ┆ Setosa  ┆ 1.199333     │\n",
       "│ 5.0          ┆ 3.6         ┆ 1.4          ┆ 0.2         ┆ Setosa  ┆ 1.199333     │\n",
       "└──────────────┴─────────────┴──────────────┴─────────────┴─────────┴──────────────┘"
      ]
     },
     "execution_count": 90,
     "metadata": {},
     "output_type": "execute_result"
    }
   ],
   "source": [
    "# Al DataFrame le añadiremos una columna con el promedio obtenido de petal.width\n",
    "pl_data_new = pl_data.select([pl.all(), pl.col(\"petal.width\").mean().alias(\"Ancho pétalo\")]).head()\n",
    "pl_data_new"
   ]
  },
  {
   "cell_type": "markdown",
   "id": "136aa73f",
   "metadata": {},
   "source": [
    "Aquí añadiremos una nueva columna con la suma de una columna existente. Algo que se debe tener en cuenta, es que si hacemos esto pero olvidamos el alias(), terminaríamos afectando la columna original."
   ]
  },
  {
   "cell_type": "code",
   "execution_count": 91,
   "id": "6425db9b",
   "metadata": {},
   "outputs": [
    {
     "data": {
      "text/html": [
       "<div><style>\n",
       ".dataframe > thead > tr > th,\n",
       ".dataframe > tbody > tr > td {\n",
       "  text-align: right;\n",
       "  white-space: pre-wrap;\n",
       "}\n",
       "</style>\n",
       "<small>shape: (150, 6)</small><table border=\"1\" class=\"dataframe\"><thead><tr><th>sepal.length</th><th>sepal.width</th><th>petal.length</th><th>petal.width</th><th>variety</th><th>Ancho Sépalo</th></tr><tr><td>f64</td><td>f64</td><td>f64</td><td>f64</td><td>str</td><td>f64</td></tr></thead><tbody><tr><td>5.1</td><td>3.5</td><td>1.4</td><td>0.2</td><td>&quot;Setosa&quot;</td><td>458.6</td></tr><tr><td>4.9</td><td>3.0</td><td>1.4</td><td>0.2</td><td>&quot;Setosa&quot;</td><td>458.6</td></tr><tr><td>4.7</td><td>3.2</td><td>1.3</td><td>0.2</td><td>&quot;Setosa&quot;</td><td>458.6</td></tr><tr><td>4.6</td><td>3.1</td><td>1.5</td><td>0.2</td><td>&quot;Setosa&quot;</td><td>458.6</td></tr><tr><td>5.0</td><td>3.6</td><td>1.4</td><td>0.2</td><td>&quot;Setosa&quot;</td><td>458.6</td></tr><tr><td>5.4</td><td>3.9</td><td>1.7</td><td>0.4</td><td>&quot;Setosa&quot;</td><td>458.6</td></tr><tr><td>4.6</td><td>3.4</td><td>1.4</td><td>0.3</td><td>&quot;Setosa&quot;</td><td>458.6</td></tr><tr><td>5.0</td><td>3.4</td><td>1.5</td><td>0.2</td><td>&quot;Setosa&quot;</td><td>458.6</td></tr><tr><td>4.4</td><td>2.9</td><td>1.4</td><td>0.2</td><td>&quot;Setosa&quot;</td><td>458.6</td></tr><tr><td>4.9</td><td>3.1</td><td>1.5</td><td>0.1</td><td>&quot;Setosa&quot;</td><td>458.6</td></tr><tr><td>5.4</td><td>3.7</td><td>1.5</td><td>0.2</td><td>&quot;Setosa&quot;</td><td>458.6</td></tr><tr><td>4.8</td><td>3.4</td><td>1.6</td><td>0.2</td><td>&quot;Setosa&quot;</td><td>458.6</td></tr><tr><td>&hellip;</td><td>&hellip;</td><td>&hellip;</td><td>&hellip;</td><td>&hellip;</td><td>&hellip;</td></tr><tr><td>6.0</td><td>3.0</td><td>4.8</td><td>1.8</td><td>&quot;Virginica&quot;</td><td>458.6</td></tr><tr><td>6.9</td><td>3.1</td><td>5.4</td><td>2.1</td><td>&quot;Virginica&quot;</td><td>458.6</td></tr><tr><td>6.7</td><td>3.1</td><td>5.6</td><td>2.4</td><td>&quot;Virginica&quot;</td><td>458.6</td></tr><tr><td>6.9</td><td>3.1</td><td>5.1</td><td>2.3</td><td>&quot;Virginica&quot;</td><td>458.6</td></tr><tr><td>5.8</td><td>2.7</td><td>5.1</td><td>1.9</td><td>&quot;Virginica&quot;</td><td>458.6</td></tr><tr><td>6.8</td><td>3.2</td><td>5.9</td><td>2.3</td><td>&quot;Virginica&quot;</td><td>458.6</td></tr><tr><td>6.7</td><td>3.3</td><td>5.7</td><td>2.5</td><td>&quot;Virginica&quot;</td><td>458.6</td></tr><tr><td>6.7</td><td>3.0</td><td>5.2</td><td>2.3</td><td>&quot;Virginica&quot;</td><td>458.6</td></tr><tr><td>6.3</td><td>2.5</td><td>5.0</td><td>1.9</td><td>&quot;Virginica&quot;</td><td>458.6</td></tr><tr><td>6.5</td><td>3.0</td><td>5.2</td><td>2.0</td><td>&quot;Virginica&quot;</td><td>458.6</td></tr><tr><td>6.2</td><td>3.4</td><td>5.4</td><td>2.3</td><td>&quot;Virginica&quot;</td><td>458.6</td></tr><tr><td>5.9</td><td>3.0</td><td>5.1</td><td>1.8</td><td>&quot;Virginica&quot;</td><td>458.6</td></tr></tbody></table></div>"
      ],
      "text/plain": [
       "shape: (150, 6)\n",
       "┌──────────────┬─────────────┬──────────────┬─────────────┬───────────┬──────────────┐\n",
       "│ sepal.length ┆ sepal.width ┆ petal.length ┆ petal.width ┆ variety   ┆ Ancho Sépalo │\n",
       "│ ---          ┆ ---         ┆ ---          ┆ ---         ┆ ---       ┆ ---          │\n",
       "│ f64          ┆ f64         ┆ f64          ┆ f64         ┆ str       ┆ f64          │\n",
       "╞══════════════╪═════════════╪══════════════╪═════════════╪═══════════╪══════════════╡\n",
       "│ 5.1          ┆ 3.5         ┆ 1.4          ┆ 0.2         ┆ Setosa    ┆ 458.6        │\n",
       "│ 4.9          ┆ 3.0         ┆ 1.4          ┆ 0.2         ┆ Setosa    ┆ 458.6        │\n",
       "│ 4.7          ┆ 3.2         ┆ 1.3          ┆ 0.2         ┆ Setosa    ┆ 458.6        │\n",
       "│ 4.6          ┆ 3.1         ┆ 1.5          ┆ 0.2         ┆ Setosa    ┆ 458.6        │\n",
       "│ …            ┆ …           ┆ …            ┆ …           ┆ …         ┆ …            │\n",
       "│ 6.3          ┆ 2.5         ┆ 5.0          ┆ 1.9         ┆ Virginica ┆ 458.6        │\n",
       "│ 6.5          ┆ 3.0         ┆ 5.2          ┆ 2.0         ┆ Virginica ┆ 458.6        │\n",
       "│ 6.2          ┆ 3.4         ┆ 5.4          ┆ 2.3         ┆ Virginica ┆ 458.6        │\n",
       "│ 5.9          ┆ 3.0         ┆ 5.1          ┆ 1.8         ┆ Virginica ┆ 458.6        │\n",
       "└──────────────┴─────────────┴──────────────┴─────────────┴───────────┴──────────────┘"
      ]
     },
     "execution_count": 91,
     "metadata": {},
     "output_type": "execute_result"
    }
   ],
   "source": [
    "pl_data.with_columns([\n",
    "    pl.sum(\"sepal.width\").alias(\"Ancho Sépalo\")\n",
    "    ])"
   ]
  }
 ],
 "metadata": {
  "kernelspec": {
   "display_name": "Python 3 (ipykernel)",
   "language": "python",
   "name": "python3"
  },
  "language_info": {
   "codemirror_mode": {
    "name": "ipython",
    "version": 3
   },
   "file_extension": ".py",
   "mimetype": "text/x-python",
   "name": "python",
   "nbconvert_exporter": "python",
   "pygments_lexer": "ipython3",
   "version": "3.11.2"
  }
 },
 "nbformat": 4,
 "nbformat_minor": 5
}
